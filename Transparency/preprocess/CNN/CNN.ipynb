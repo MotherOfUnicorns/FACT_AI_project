{
 "cells": [
  {
   "cell_type": "markdown",
   "metadata": {},
   "source": [
    "**Preprocessing notebook for the CNN dataset\n",
    "\n",
    "\n",
    "NOTE: The notebook contains two options for downloading and preprocessing the dataset.\n",
    "Choose either Option 1, or Option 2."
   ]
  },
  {
   "cell_type": "code",
   "execution_count": 5,
   "metadata": {},
   "outputs": [],
   "source": [
    "import numpy as np\n",
    "import matplotlib.pyplot as plt\n",
    "import os"
   ]
  },
  {
   "cell_type": "code",
   "execution_count": 2,
   "metadata": {},
   "outputs": [],
   "source": [
    "keys = ['train', 'dev', 'test']"
   ]
  },
  {
   "cell_type": "code",
   "execution_count": 1,
   "metadata": {
    "scrolled": true
   },
   "outputs": [
    {
     "name": "stdout",
     "output_type": "stream",
     "text": [
      "--2019-04-15 19:22:45--  http://cs.stanford.edu/~danqi/data/cnn.tar.gz\n",
      "Resolving cs.stanford.edu (cs.stanford.edu)... 171.64.64.64\n",
      "Connecting to cs.stanford.edu (cs.stanford.edu)|171.64.64.64|:80... connected.\n",
      "HTTP request sent, awaiting response... 301 Moved Permanently\n",
      "Location: https://cs.stanford.edu/~danqi/data/cnn.tar.gz [following]\n",
      "--2019-04-15 19:22:45--  https://cs.stanford.edu/~danqi/data/cnn.tar.gz\n",
      "Connecting to cs.stanford.edu (cs.stanford.edu)|171.64.64.64|:443... connected.\n",
      "HTTP request sent, awaiting response... 200 OK\n",
      "Length: 571560380 (545M) [application/x-gzip]\n",
      "Saving to: ‘cnn.tar.gz’\n",
      "\n",
      "cnn.tar.gz          100%[===================>] 545.08M  11.9MB/s    in 49s     \n",
      "\n",
      "2019-04-15 19:23:35 (11.1 MB/s) - ‘cnn.tar.gz’ saved [571560380/571560380]\n",
      "\n",
      "cnn/\n",
      "cnn/dev.txt\n",
      "cnn/train.txt\n",
      "cnn/test.txt\n"
     ]
    }
   ],
   "source": [
    "# OPTION 1 - Commented out, because dataset is not available at specified location\n",
    "\n",
    "#!wget http://cs.stanford.edu/~danqi/data/cnn.tar.gz\n",
    "#!tar -xvzf cnn.tar.gz"
   ]
  },
  {
   "cell_type": "code",
   "execution_count": 4,
   "metadata": {},
   "outputs": [],
   "source": [
    "# Preprocessing for Option 1\n",
    "\n",
    "# Commented out because dataset is no longer available in this format\n",
    "\n",
    "# This is the preprocessing code to use if all questions have been concatenated into three files, with\n",
    "# respectively the train, dev and test questions.\n",
    "# So run EITHER this cell, or the next.\n",
    "\n",
    "#p, q, a = {}, {}, {}\n",
    "#for k in keys :\n",
    "#    file = open('cnn/questions/' + k + '.txt').read().strip().split('\\n\\n')\n",
    "#    file = [x.split('\\n') for x in file]\n",
    "#    p[k] = [x[2] for x in file]\n",
    "#    q[k] = [x[0] for x in file]\n",
    "#    a[k] = [x[1] for x in file]"
   ]
  },
  {
   "cell_type": "code",
   "execution_count": 15,
   "metadata": {},
   "outputs": [],
   "source": [
    "# Option 2\n",
    "\n",
    "# Download the dataset from https://cs.nyu.edu/~kcho/DMQA/\n",
    "# Unpack the cnn.tar.gz file\n",
    "# The questions should be in a folder named 'questions', with subfolders for the train, dev and test datasets\n",
    "\n",
    "# Then run the preprocessing code below\n",
    "\n",
    "assert os.path.isdir('cnn/questions'), \"Please download and unpack the dataset from https://cs.nyu.edu/~kcho/DMQA/\""
   ]
  },
  {
   "cell_type": "code",
   "execution_count": 18,
   "metadata": {},
   "outputs": [
    {
     "name": "stdout",
     "output_type": "stream",
     "text": [
      "\n",
      " train : contains  380298  examples\n",
      " 11672 \r"
     ]
    },
    {
     "ename": "KeyboardInterrupt",
     "evalue": "",
     "output_type": "error",
     "traceback": [
      "\u001b[0;31m---------------------------------------------------------------------------\u001b[0m",
      "\u001b[0;31mKeyboardInterrupt\u001b[0m                         Traceback (most recent call last)",
      "\u001b[0;32m<ipython-input-18-41f37b2d0ca0>\u001b[0m in \u001b[0;36m<module>\u001b[0;34m\u001b[0m\n\u001b[1;32m     26\u001b[0m     \u001b[0mc\u001b[0m \u001b[0;34m=\u001b[0m \u001b[0;36m0\u001b[0m\u001b[0;34m\u001b[0m\u001b[0;34m\u001b[0m\u001b[0m\n\u001b[1;32m     27\u001b[0m     \u001b[0;32mfor\u001b[0m \u001b[0mf\u001b[0m \u001b[0;32min\u001b[0m \u001b[0mfiles\u001b[0m\u001b[0;34m:\u001b[0m\u001b[0;34m\u001b[0m\u001b[0;34m\u001b[0m\u001b[0m\n\u001b[0;32m---> 28\u001b[0;31m         \u001b[0mprint\u001b[0m\u001b[0;34m(\u001b[0m\u001b[0;34m\"\\r\"\u001b[0m\u001b[0;34m,\u001b[0m \u001b[0mc\u001b[0m\u001b[0;34m,\u001b[0m \u001b[0mend\u001b[0m\u001b[0;34m=\u001b[0m\u001b[0;34m' '\u001b[0m\u001b[0;34m)\u001b[0m\u001b[0;34m\u001b[0m\u001b[0;34m\u001b[0m\u001b[0m\n\u001b[0m\u001b[1;32m     29\u001b[0m         \u001b[0mfile\u001b[0m \u001b[0;34m=\u001b[0m \u001b[0mopen\u001b[0m\u001b[0;34m(\u001b[0m\u001b[0;34m'cnn/questions/'\u001b[0m \u001b[0;34m+\u001b[0m \u001b[0mk\u001b[0m \u001b[0;34m+\u001b[0m \u001b[0;34m'/'\u001b[0m \u001b[0;34m+\u001b[0m \u001b[0mf\u001b[0m\u001b[0;34m)\u001b[0m\u001b[0;34m.\u001b[0m\u001b[0mread\u001b[0m\u001b[0;34m(\u001b[0m\u001b[0;34m)\u001b[0m\u001b[0;34m.\u001b[0m\u001b[0mstrip\u001b[0m\u001b[0;34m(\u001b[0m\u001b[0;34m)\u001b[0m\u001b[0;34m.\u001b[0m\u001b[0msplit\u001b[0m\u001b[0;34m(\u001b[0m\u001b[0;34m'\\n\\n'\u001b[0m\u001b[0;34m)\u001b[0m\u001b[0;34m\u001b[0m\u001b[0;34m\u001b[0m\u001b[0m\n\u001b[1;32m     30\u001b[0m         \u001b[0mp\u001b[0m\u001b[0;34m[\u001b[0m\u001b[0mk\u001b[0m\u001b[0;34m]\u001b[0m\u001b[0;34m.\u001b[0m\u001b[0mappend\u001b[0m\u001b[0;34m(\u001b[0m\u001b[0mfile\u001b[0m\u001b[0;34m[\u001b[0m\u001b[0;36m1\u001b[0m\u001b[0;34m]\u001b[0m\u001b[0;34m)\u001b[0m\u001b[0;34m\u001b[0m\u001b[0;34m\u001b[0m\u001b[0m\n",
      "\u001b[0;32m~/opt/anaconda3/envs/FACT/lib/python3.7/site-packages/ipykernel/iostream.py\u001b[0m in \u001b[0;36mwrite\u001b[0;34m(self, string)\u001b[0m\n\u001b[1;32m    400\u001b[0m             \u001b[0mis_child\u001b[0m \u001b[0;34m=\u001b[0m \u001b[0;34m(\u001b[0m\u001b[0;32mnot\u001b[0m \u001b[0mself\u001b[0m\u001b[0;34m.\u001b[0m\u001b[0m_is_master_process\u001b[0m\u001b[0;34m(\u001b[0m\u001b[0;34m)\u001b[0m\u001b[0;34m)\u001b[0m\u001b[0;34m\u001b[0m\u001b[0;34m\u001b[0m\u001b[0m\n\u001b[1;32m    401\u001b[0m             \u001b[0;31m# only touch the buffer in the IO thread to avoid races\u001b[0m\u001b[0;34m\u001b[0m\u001b[0;34m\u001b[0m\u001b[0;34m\u001b[0m\u001b[0m\n\u001b[0;32m--> 402\u001b[0;31m             \u001b[0mself\u001b[0m\u001b[0;34m.\u001b[0m\u001b[0mpub_thread\u001b[0m\u001b[0;34m.\u001b[0m\u001b[0mschedule\u001b[0m\u001b[0;34m(\u001b[0m\u001b[0;32mlambda\u001b[0m \u001b[0;34m:\u001b[0m \u001b[0mself\u001b[0m\u001b[0;34m.\u001b[0m\u001b[0m_buffer\u001b[0m\u001b[0;34m.\u001b[0m\u001b[0mwrite\u001b[0m\u001b[0;34m(\u001b[0m\u001b[0mstring\u001b[0m\u001b[0;34m)\u001b[0m\u001b[0;34m)\u001b[0m\u001b[0;34m\u001b[0m\u001b[0;34m\u001b[0m\u001b[0m\n\u001b[0m\u001b[1;32m    403\u001b[0m             \u001b[0;32mif\u001b[0m \u001b[0mis_child\u001b[0m\u001b[0;34m:\u001b[0m\u001b[0;34m\u001b[0m\u001b[0;34m\u001b[0m\u001b[0m\n\u001b[1;32m    404\u001b[0m                 \u001b[0;31m# mp.Pool cannot be trusted to flush promptly (or ever),\u001b[0m\u001b[0;34m\u001b[0m\u001b[0;34m\u001b[0m\u001b[0;34m\u001b[0m\u001b[0m\n",
      "\u001b[0;32m~/opt/anaconda3/envs/FACT/lib/python3.7/site-packages/ipykernel/iostream.py\u001b[0m in \u001b[0;36mschedule\u001b[0;34m(self, f)\u001b[0m\n\u001b[1;32m    201\u001b[0m             \u001b[0mself\u001b[0m\u001b[0;34m.\u001b[0m\u001b[0m_events\u001b[0m\u001b[0;34m.\u001b[0m\u001b[0mappend\u001b[0m\u001b[0;34m(\u001b[0m\u001b[0mf\u001b[0m\u001b[0;34m)\u001b[0m\u001b[0;34m\u001b[0m\u001b[0;34m\u001b[0m\u001b[0m\n\u001b[1;32m    202\u001b[0m             \u001b[0;31m# wake event thread (message content is ignored)\u001b[0m\u001b[0;34m\u001b[0m\u001b[0;34m\u001b[0m\u001b[0;34m\u001b[0m\u001b[0m\n\u001b[0;32m--> 203\u001b[0;31m             \u001b[0mself\u001b[0m\u001b[0;34m.\u001b[0m\u001b[0m_event_pipe\u001b[0m\u001b[0;34m.\u001b[0m\u001b[0msend\u001b[0m\u001b[0;34m(\u001b[0m\u001b[0;34mb''\u001b[0m\u001b[0;34m)\u001b[0m\u001b[0;34m\u001b[0m\u001b[0;34m\u001b[0m\u001b[0m\n\u001b[0m\u001b[1;32m    204\u001b[0m         \u001b[0;32melse\u001b[0m\u001b[0;34m:\u001b[0m\u001b[0;34m\u001b[0m\u001b[0;34m\u001b[0m\u001b[0m\n\u001b[1;32m    205\u001b[0m             \u001b[0mf\u001b[0m\u001b[0;34m(\u001b[0m\u001b[0;34m)\u001b[0m\u001b[0;34m\u001b[0m\u001b[0;34m\u001b[0m\u001b[0m\n",
      "\u001b[0;32m~/opt/anaconda3/envs/FACT/lib/python3.7/site-packages/zmq/sugar/socket.py\u001b[0m in \u001b[0;36msend\u001b[0;34m(self, data, flags, copy, track, routing_id, group)\u001b[0m\n\u001b[1;32m    489\u001b[0m                                  copy_threshold=self.copy_threshold)\n\u001b[1;32m    490\u001b[0m             \u001b[0mdata\u001b[0m\u001b[0;34m.\u001b[0m\u001b[0mgroup\u001b[0m \u001b[0;34m=\u001b[0m \u001b[0mgroup\u001b[0m\u001b[0;34m\u001b[0m\u001b[0;34m\u001b[0m\u001b[0m\n\u001b[0;32m--> 491\u001b[0;31m         \u001b[0;32mreturn\u001b[0m \u001b[0msuper\u001b[0m\u001b[0;34m(\u001b[0m\u001b[0mSocket\u001b[0m\u001b[0;34m,\u001b[0m \u001b[0mself\u001b[0m\u001b[0;34m)\u001b[0m\u001b[0;34m.\u001b[0m\u001b[0msend\u001b[0m\u001b[0;34m(\u001b[0m\u001b[0mdata\u001b[0m\u001b[0;34m,\u001b[0m \u001b[0mflags\u001b[0m\u001b[0;34m=\u001b[0m\u001b[0mflags\u001b[0m\u001b[0;34m,\u001b[0m \u001b[0mcopy\u001b[0m\u001b[0;34m=\u001b[0m\u001b[0mcopy\u001b[0m\u001b[0;34m,\u001b[0m \u001b[0mtrack\u001b[0m\u001b[0;34m=\u001b[0m\u001b[0mtrack\u001b[0m\u001b[0;34m)\u001b[0m\u001b[0;34m\u001b[0m\u001b[0;34m\u001b[0m\u001b[0m\n\u001b[0m\u001b[1;32m    492\u001b[0m \u001b[0;34m\u001b[0m\u001b[0m\n\u001b[1;32m    493\u001b[0m     \u001b[0;32mdef\u001b[0m \u001b[0msend_multipart\u001b[0m\u001b[0;34m(\u001b[0m\u001b[0mself\u001b[0m\u001b[0;34m,\u001b[0m \u001b[0mmsg_parts\u001b[0m\u001b[0;34m,\u001b[0m \u001b[0mflags\u001b[0m\u001b[0;34m=\u001b[0m\u001b[0;36m0\u001b[0m\u001b[0;34m,\u001b[0m \u001b[0mcopy\u001b[0m\u001b[0;34m=\u001b[0m\u001b[0;32mTrue\u001b[0m\u001b[0;34m,\u001b[0m \u001b[0mtrack\u001b[0m\u001b[0;34m=\u001b[0m\u001b[0;32mFalse\u001b[0m\u001b[0;34m,\u001b[0m \u001b[0;34m**\u001b[0m\u001b[0mkwargs\u001b[0m\u001b[0;34m)\u001b[0m\u001b[0;34m:\u001b[0m\u001b[0;34m\u001b[0m\u001b[0;34m\u001b[0m\u001b[0m\n",
      "\u001b[0;32mzmq/backend/cython/socket.pyx\u001b[0m in \u001b[0;36mzmq.backend.cython.socket.Socket.send\u001b[0;34m()\u001b[0m\n",
      "\u001b[0;32mzmq/backend/cython/socket.pyx\u001b[0m in \u001b[0;36mzmq.backend.cython.socket.Socket.send\u001b[0;34m()\u001b[0m\n",
      "\u001b[0;32mzmq/backend/cython/socket.pyx\u001b[0m in \u001b[0;36mzmq.backend.cython.socket._send_copy\u001b[0;34m()\u001b[0m\n",
      "\u001b[0;32m~/opt/anaconda3/envs/FACT/lib/python3.7/site-packages/zmq/backend/cython/checkrc.pxd\u001b[0m in \u001b[0;36mzmq.backend.cython.checkrc._check_rc\u001b[0;34m()\u001b[0m\n",
      "\u001b[0;31mKeyboardInterrupt\u001b[0m: "
     ]
    }
   ],
   "source": [
    "# Preprocessing for option 2\n",
    "\n",
    "# This is alternative preprocessing code, in case the dataset is in original form.\n",
    "# Original form means each example (in train, dev and test set) is in a separate file, \n",
    "# in distinct subfolders within the cnn folder.\n",
    "# Each example has the following structure info, separated by two newlines:\n",
    "#  - source of the cnn article (url)\n",
    "#  - the paragraph\n",
    "#  - the question\n",
    "#  - the answer\n",
    "#  - list of entities e.g. @entity128:Royal Malewane, separated by a newline\n",
    "# The preprocessing goes throuigh all the files, and collects the text, question and answer in p, k and a.\n",
    "\n",
    "p, q, a = {}, {}, {}\n",
    "\n",
    "for k in keys :\n",
    "    p[k] = []\n",
    "    q[k] = []\n",
    "    a[k] = []\n",
    "    \n",
    "    # get all the file names; each file contains one example\n",
    "    files = os.listdir('cnn/questions/' + k)\n",
    "    print(\"\\n\", k, \": contains \", len(files), \" examples\")\n",
    "    \n",
    "    # loop through all the files, and extract text (p), question (q) and answer (a)\n",
    "    c = 0\n",
    "    for f in files:\n",
    "        print(\"\\r\", c, end=' ')\n",
    "        file = open('cnn/questions/' + k + '/' + f).read().strip().split('\\n\\n')\n",
    "        p[k].append(file[1])\n",
    "        q[k].append(file[2])\n",
    "        a[k].append(file[3])\n",
    "        c += 1\n",
    "\n",
    "print(\"\\ndone reading the files\")"
   ]
  },
  {
   "cell_type": "code",
   "execution_count": 8,
   "metadata": {},
   "outputs": [],
   "source": [
    "entities = {}\n",
    "\n",
    "# Loop over the keys in p (train, dev, test)\n",
    "for k in p :\n",
    "    entities[k] = []\n",
    "    \n",
    "    # loop over all paragraphs in this set\n",
    "    for x in p[k] :\n",
    "        \n",
    "        # split the article in words, and add all the words that start with '@entity' to list\n",
    "        entities[k] += [y for y in x.split() if y.startswith('@entity')]\n",
    "\n",
    "    # convert to set --> remove duplicates\n",
    "    entities[k] = set(entities[k])\n",
    "\n",
    "# Write entities to file\n",
    "f = open('entity_list.txt', 'w')\n",
    "f.write('\\n'.join(list(entities['train'])))\n",
    "f.close()"
   ]
  },
  {
   "cell_type": "code",
   "execution_count": 11,
   "metadata": {},
   "outputs": [],
   "source": [
    "def generate_possible_answers(p) :\n",
    "    \" Returns a string with the possible answers in paragraph p, seperated by semicolons\n",
    "    \"\n",
    "    possible_answers = []\n",
    "    for w in p.split() :\n",
    "        if w.startswith('@entity') :\n",
    "            possible_answers.append(w)\n",
    "    \n",
    "    return \";\".join(list(set(possible_answers)))"
   ]
  },
  {
   "cell_type": "code",
   "execution_count": 12,
   "metadata": {},
   "outputs": [],
   "source": [
    "import pandas as pd\n",
    "df_paragraphs = []\n",
    "df_questions = []\n",
    "df_answers = []\n",
    "df_possible_answers = []\n",
    "df_exp_splits = []\n",
    "\n",
    "for k in keys :\n",
    "    df_paragraphs += p[k]\n",
    "    df_questions += q[k]\n",
    "    df_answers += a[k]\n",
    "    df_possible_answers += [generate_possible_answers(x) for x in p[k]]\n",
    "    df_exp_splits += [k] * len(p[k])\n",
    "    \n",
    "df = {'paragraph' : df_paragraphs, 'question' : df_questions, 'answer' : df_answers, \n",
    "      'exp_split' : df_exp_splits, 'possible_answers' : df_possible_answers}\n",
    "df = pd.DataFrame(df)"
   ]
  },
  {
   "cell_type": "code",
   "execution_count": 13,
   "metadata": {},
   "outputs": [],
   "source": [
    "df.to_csv('cnn_dataset.csv', index=False)"
   ]
  },
  {
   "cell_type": "code",
   "execution_count": 1,
   "metadata": {},
   "outputs": [
    {
     "name": "stdout",
     "output_type": "stream",
     "text": [
      "Vocabulary size :  70187\n",
      "entity2index {'@entity0': 0, '@entity1': 1, '@entity10': 2, '@entity100': 3, '@entity101': 4, '@entity102': 5, '@entity103': 6, '@entity104': 7, '@entity105': 8, '@entity106': 9, '@entity107': 10, '@entity108': 11, '@entity109': 12, '@entity11': 13, '@entity110': 14, '@entity111': 15, '@entity112': 16, '@entity113': 17, '@entity114': 18, '@entity115': 19, '@entity116': 20, '@entity117': 21, '@entity118': 22, '@entity119': 23, '@entity12': 24, '@entity120': 25, '@entity121': 26, '@entity122': 27, '@entity123': 28, '@entity124': 29, '@entity125': 30, '@entity126': 31, '@entity127': 32, '@entity128': 33, '@entity129': 34, '@entity13': 35, '@entity130': 36, '@entity131': 37, '@entity132': 38, '@entity133': 39, '@entity134': 40, '@entity135': 41, '@entity136': 42, '@entity137': 43, '@entity138': 44, '@entity139': 45, '@entity14': 46, '@entity140': 47, '@entity141': 48, '@entity142': 49, '@entity143': 50, '@entity144': 51, '@entity145': 52, '@entity146': 53, '@entity147': 54, '@entity148': 55, '@entity149': 56, '@entity15': 57, '@entity150': 58, '@entity151': 59, '@entity152': 60, '@entity153': 61, '@entity154': 62, '@entity155': 63, '@entity156': 64, '@entity157': 65, '@entity158': 66, '@entity159': 67, '@entity16': 68, '@entity160': 69, '@entity161': 70, '@entity162': 71, '@entity163': 72, '@entity164': 73, '@entity165': 74, '@entity166': 75, '@entity167': 76, '@entity168': 77, '@entity169': 78, '@entity17': 79, '@entity170': 80, '@entity171': 81, '@entity172': 82, '@entity173': 83, '@entity174': 84, '@entity175': 85, '@entity176': 86, '@entity177': 87, '@entity178': 88, '@entity179': 89, '@entity18': 90, '@entity180': 91, '@entity181': 92, '@entity182': 93, '@entity183': 94, '@entity184': 95, '@entity185': 96, '@entity186': 97, '@entity187': 98, '@entity188': 99, '@entity189': 100, '@entity19': 101, '@entity190': 102, '@entity191': 103, '@entity192': 104, '@entity193': 105, '@entity194': 106, '@entity195': 107, '@entity196': 108, '@entity197': 109, '@entity198': 110, '@entity199': 111, '@entity2': 112, '@entity20': 113, '@entity200': 114, '@entity201': 115, '@entity202': 116, '@entity203': 117, '@entity204': 118, '@entity205': 119, '@entity206': 120, '@entity207': 121, '@entity208': 122, '@entity209': 123, '@entity21': 124, '@entity210': 125, '@entity211': 126, '@entity212': 127, '@entity213': 128, '@entity214': 129, '@entity215': 130, '@entity216': 131, '@entity217': 132, '@entity218': 133, '@entity219': 134, '@entity22': 135, '@entity220': 136, '@entity221': 137, '@entity222': 138, '@entity223': 139, '@entity224': 140, '@entity225': 141, '@entity226': 142, '@entity227': 143, '@entity228': 144, '@entity229': 145, '@entity23': 146, '@entity230': 147, '@entity231': 148, '@entity232': 149, '@entity233': 150, '@entity234': 151, '@entity235': 152, '@entity236': 153, '@entity237': 154, '@entity238': 155, '@entity239': 156, '@entity24': 157, '@entity240': 158, '@entity241': 159, '@entity242': 160, '@entity243': 161, '@entity244': 162, '@entity245': 163, '@entity246': 164, '@entity247': 165, '@entity248': 166, '@entity249': 167, '@entity25': 168, '@entity250': 169, '@entity251': 170, '@entity252': 171, '@entity253': 172, '@entity254': 173, '@entity255': 174, '@entity256': 175, '@entity257': 176, '@entity258': 177, '@entity259': 178, '@entity26': 179, '@entity260': 180, '@entity261': 181, '@entity262': 182, '@entity263': 183, '@entity264': 184, '@entity265': 185, '@entity266': 186, '@entity267': 187, '@entity268': 188, '@entity269': 189, '@entity27': 190, '@entity270': 191, '@entity271': 192, '@entity272': 193, '@entity273': 194, '@entity274': 195, '@entity275': 196, '@entity276': 197, '@entity277': 198, '@entity278': 199, '@entity279': 200, '@entity28': 201, '@entity280': 202, '@entity281': 203, '@entity282': 204, '@entity283': 205, '@entity284': 206, '@entity285': 207, '@entity286': 208, '@entity287': 209, '@entity288': 210, '@entity289': 211, '@entity29': 212, '@entity290': 213, '@entity291': 214, '@entity292': 215, '@entity293': 216, '@entity294': 217, '@entity295': 218, '@entity296': 219, '@entity297': 220, '@entity298': 221, '@entity299': 222, '@entity3': 223, '@entity30': 224, '@entity300': 225, '@entity301': 226, '@entity302': 227, '@entity303': 228, '@entity304': 229, '@entity305': 230, '@entity306': 231, '@entity307': 232, '@entity308': 233, '@entity309': 234, '@entity31': 235, '@entity310': 236, '@entity311': 237, '@entity312': 238, '@entity313': 239, '@entity314': 240, '@entity315': 241, '@entity316': 242, '@entity317': 243, '@entity318': 244, '@entity319': 245, '@entity32': 246, '@entity320': 247, '@entity321': 248, '@entity322': 249, '@entity323': 250, '@entity324': 251, '@entity325': 252, '@entity326': 253, '@entity327': 254, '@entity328': 255, '@entity329': 256, '@entity33': 257, '@entity330': 258, '@entity331': 259, '@entity332': 260, '@entity333': 261, '@entity334': 262, '@entity335': 263, '@entity336': 264, '@entity337': 265, '@entity338': 266, '@entity339': 267, '@entity34': 268, '@entity340': 269, '@entity341': 270, '@entity342': 271, '@entity343': 272, '@entity344': 273, '@entity345': 274, '@entity346': 275, '@entity347': 276, '@entity348': 277, '@entity349': 278, '@entity35': 279, '@entity350': 280, '@entity351': 281, '@entity352': 282, '@entity353': 283, '@entity354': 284, '@entity355': 285, '@entity356': 286, '@entity357': 287, '@entity358': 288, '@entity359': 289, '@entity36': 290, '@entity360': 291, '@entity361': 292, '@entity362': 293, '@entity363': 294, '@entity364': 295, '@entity365': 296, '@entity366': 297, '@entity367': 298, '@entity368': 299, '@entity369': 300, '@entity37': 301, '@entity370': 302, '@entity371': 303, '@entity372': 304, '@entity373': 305, '@entity374': 306, '@entity375': 307, '@entity376': 308, '@entity377': 309, '@entity378': 310, '@entity379': 311, '@entity38': 312, '@entity380': 313, '@entity381': 314, '@entity382': 315, '@entity383': 316, '@entity384': 317, '@entity385': 318, '@entity386': 319, '@entity387': 320, '@entity388': 321, '@entity389': 322, '@entity39': 323, '@entity390': 324, '@entity391': 325, '@entity392': 326, '@entity393': 327, '@entity394': 328, '@entity395': 329, '@entity396': 330, '@entity397': 331, '@entity398': 332, '@entity399': 333, '@entity4': 334, '@entity40': 335, '@entity400': 336, '@entity401': 337, '@entity402': 338, '@entity403': 339, '@entity404': 340, '@entity405': 341, '@entity406': 342, '@entity407': 343, '@entity408': 344, '@entity409': 345, '@entity41': 346, '@entity410': 347, '@entity411': 348, '@entity412': 349, '@entity413': 350, '@entity414': 351, '@entity415': 352, '@entity416': 353, '@entity417': 354, '@entity418': 355, '@entity419': 356, '@entity42': 357, '@entity420': 358, '@entity421': 359, '@entity422': 360, '@entity423': 361, '@entity424': 362, '@entity425': 363, '@entity426': 364, '@entity427': 365, '@entity428': 366, '@entity429': 367, '@entity43': 368, '@entity430': 369, '@entity431': 370, '@entity432': 371, '@entity433': 372, '@entity434': 373, '@entity435': 374, '@entity436': 375, '@entity437': 376, '@entity438': 377, '@entity439': 378, '@entity44': 379, '@entity440': 380, '@entity441': 381, '@entity442': 382, '@entity443': 383, '@entity444': 384, '@entity445': 385, '@entity446': 386, '@entity447': 387, '@entity448': 388, '@entity449': 389, '@entity45': 390, '@entity450': 391, '@entity451': 392, '@entity452': 393, '@entity453': 394, '@entity454': 395, '@entity455': 396, '@entity456': 397, '@entity457': 398, '@entity458': 399, '@entity459': 400, '@entity46': 401, '@entity460': 402, '@entity461': 403, '@entity462': 404, '@entity463': 405, '@entity464': 406, '@entity465': 407, '@entity466': 408, '@entity467': 409, '@entity468': 410, '@entity469': 411, '@entity47': 412, '@entity470': 413, '@entity471': 414, '@entity472': 415, '@entity473': 416, '@entity474': 417, '@entity475': 418, '@entity476': 419, '@entity477': 420, '@entity478': 421, '@entity479': 422, '@entity48': 423, '@entity480': 424, '@entity481': 425, '@entity482': 426, '@entity483': 427, '@entity484': 428, '@entity485': 429, '@entity486': 430, '@entity487': 431, '@entity488': 432, '@entity49': 433, '@entity490': 434, '@entity491': 435, '@entity492': 436, '@entity493': 437, '@entity494': 438, '@entity496': 439, '@entity497': 440, '@entity498': 441, '@entity499': 442, '@entity5': 443, '@entity50': 444, '@entity500': 445, '@entity501': 446, '@entity502': 447, '@entity503': 448, '@entity504': 449, '@entity505': 450, '@entity506': 451, '@entity507': 452, '@entity508': 453, '@entity51': 454, '@entity510': 455, '@entity511': 456, '@entity512': 457, '@entity513': 458, '@entity514': 459, '@entity515': 460, '@entity516': 461, '@entity517': 462, '@entity518': 463, '@entity519': 464, '@entity52': 465, '@entity520': 466, '@entity521': 467, '@entity523': 468, '@entity524': 469, '@entity525': 470, '@entity526': 471, '@entity527': 472, '@entity528': 473, '@entity529': 474, '@entity53': 475, '@entity531': 476, '@entity532': 477, '@entity533': 478, '@entity534': 479, '@entity535': 480, '@entity537': 481, '@entity538': 482, '@entity539': 483, '@entity54': 484, '@entity540': 485, '@entity541': 486, '@entity542': 487, '@entity543': 488, '@entity544': 489, '@entity545': 490, '@entity547': 491, '@entity548': 492, '@entity549': 493, '@entity55': 494, '@entity550': 495, '@entity551': 496, '@entity552': 497, '@entity553': 498, '@entity554': 499, '@entity555': 500, '@entity557': 501, '@entity558': 502, '@entity559': 503, '@entity56': 504, '@entity560': 505, '@entity561': 506, '@entity562': 507, '@entity564': 508, '@entity565': 509, '@entity566': 510, '@entity567': 511, '@entity568': 512, '@entity569': 513, '@entity57': 514, '@entity571': 515, '@entity572': 516, '@entity573': 517, '@entity574': 518, '@entity575': 519, '@entity576': 520, '@entity577': 521, '@entity578': 522, '@entity58': 523, '@entity580': 524, '@entity581': 525, '@entity582': 526, '@entity583': 527, '@entity584': 528, '@entity585': 529, '@entity586': 530, '@entity587': 531, '@entity588': 532, '@entity589': 533, '@entity59': 534, '@entity591': 535, '@entity592': 536, '@entity593': 537, '@entity594': 538, '@entity595': 539, '@entity6': 540, '@entity60': 541, '@entity61': 542, '@entity62': 543, '@entity63': 544, '@entity64': 545, '@entity65': 546, '@entity66': 547, '@entity67': 548, '@entity68': 549, '@entity69': 550, '@entity7': 551, '@entity70': 552, '@entity71': 553, '@entity72': 554, '@entity73': 555, '@entity74': 556, '@entity75': 557, '@entity76': 558, '@entity77': 559, '@entity78': 560, '@entity79': 561, '@entity8': 562, '@entity80': 563, '@entity81': 564, '@entity82': 565, '@entity83': 566, '@entity84': 567, '@entity85': 568, '@entity86': 569, '@entity87': 570, '@entity88': 571, '@entity89': 572, '@entity9': 573, '@entity90': 574, '@entity91': 575, '@entity92': 576, '@entity93': 577, '@entity94': 578, '@entity95': 579, '@entity96': 580, '@entity97': 581, '@entity98': 582, '@entity99': 583}\n",
      "Adding Answers to vocab too . Should only be occuring for CNN dataset\n"
     ]
    },
    {
     "name": "stdout",
     "output_type": "stream",
     "text": [
      "Found 35237 words in model out of 70190\n"
     ]
    }
   ],
   "source": [
    "%run \"../preprocess_data_QA.py\" --data_file cnn_dataset.csv --output_file ./vec_cnn.p --all_answers_file entity_list.txt \\\n",
    "--word_vectors_type fasttext.simple.300d --min_df 8 --add_answers_to_vocab"
   ]
  },
  {
   "cell_type": "code",
   "execution_count": null,
   "metadata": {},
   "outputs": [],
   "source": []
  }
 ],
 "metadata": {
  "kernelspec": {
   "display_name": "Python 3",
   "language": "python",
   "name": "python3"
  },
  "language_info": {
   "codemirror_mode": {
    "name": "ipython",
    "version": 3
   },
   "file_extension": ".py",
   "mimetype": "text/x-python",
   "name": "python",
   "nbconvert_exporter": "python",
   "pygments_lexer": "ipython3",
   "version": "3.7.9"
  }
 },
 "nbformat": 4,
 "nbformat_minor": 2
}
